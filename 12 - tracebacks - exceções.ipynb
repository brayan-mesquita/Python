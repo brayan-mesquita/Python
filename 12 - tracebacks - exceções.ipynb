{
 "cells": [
  {
   "cell_type": "code",
   "execution_count": 15,
   "metadata": {},
   "outputs": [
    {
     "name": "stdout",
     "output_type": "stream",
     "text": [
      "Digite números para somar\n",
      "5\n"
     ]
    }
   ],
   "source": [
    "try:\n",
    "    print('Digite números para somar')\n",
    "    p = int(input())\n",
    "    q = int(input())\n",
    "    print(p + q)\n",
    "except:\n",
    "    print('Digite um número válido')"
   ]
  }
 ],
 "metadata": {
  "kernelspec": {
   "display_name": "Python 3.10.5 64-bit (windows store)",
   "language": "python",
   "name": "python3"
  },
  "language_info": {
   "codemirror_mode": {
    "name": "ipython",
    "version": 3
   },
   "file_extension": ".py",
   "mimetype": "text/x-python",
   "name": "python",
   "nbconvert_exporter": "python",
   "pygments_lexer": "ipython3",
   "version": "3.10.5"
  },
  "orig_nbformat": 4,
  "vscode": {
   "interpreter": {
    "hash": "c3c8f4ea901ed6360110bdb099c00bd4a3f31170432fdd3c86e0bc3296bb5d07"
   }
  }
 },
 "nbformat": 4,
 "nbformat_minor": 2
}
