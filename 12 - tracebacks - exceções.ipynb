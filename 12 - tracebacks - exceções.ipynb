{
 "cells": [
  {
   "cell_type": "code",
   "execution_count": null,
   "metadata": {},
   "outputs": [],
   "source": []
  }
 ],
 "metadata": {
  "kernelspec": {
   "display_name": "Python 3.10.5 64-bit (windows store)",
   "language": "python",
   "name": "python3"
  },
  "language_info": {
   "name": "python",
   "version": "3.10.5"
  },
  "orig_nbformat": 4,
  "vscode": {
   "interpreter": {
    "hash": "c3c8f4ea901ed6360110bdb099c00bd4a3f31170432fdd3c86e0bc3296bb5d07"
   }
  }
 },
 "nbformat": 4,
 "nbformat_minor": 2
}
