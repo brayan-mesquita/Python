{
  "nbformat": 4,
  "nbformat_minor": 0,
  "metadata": {
    "colab": {
      "name": "5 - Listas.ipynb",
      "provenance": [],
      "collapsed_sections": [],
      "authorship_tag": "ABX9TyOdPwVEd8Ji0TASy8sb1zI+"
    },
    "kernelspec": {
      "name": "python3",
      "display_name": "Python 3"
    },
    "language_info": {
      "name": "python"
    }
  },
  "cells": [
    {
      "cell_type": "markdown",
      "source": [
        "#Informações\n",
        "Python para coisas chatas\n",
        "pagina 118"
      ],
      "metadata": {
        "id": "Mx0uAmib181M"
      }
    },
    {
      "cell_type": "markdown",
      "source": [
        "https://docs.python.org/pt-br/3/tutorial/datastructures.html"
      ],
      "metadata": {
        "id": "hFfrZBNC0L9e"
      }
    },
    {
      "cell_type": "markdown",
      "source": [
        "##criando listas"
      ],
      "metadata": {
        "id": "ztXbXA-A1TJZ"
      }
    },
    {
      "cell_type": "code",
      "execution_count": null,
      "metadata": {
        "id": "xR2zJVs4SMYx"
      },
      "outputs": [],
      "source": [
        "vazia = []\n",
        "varios = [10, 20, 30, 40, 'meu nome é Brayan', True, 3.12]\n",
        "veiculos = [\"Carro\", \"Moto\", \"Aeronave\"]\n",
        "diversos = ['João',{'Idade':28}, ['Música', 'Esporte']]\n",
        "lista_das_listas = [vazia, varios, veiculos, diversos]"
      ]
    },
    {
      "cell_type": "code",
      "source": [
        "numeros_range = list(range(10))\n",
        "print(numeros_range)\n",
        "numeros_range = list(reversed(range(10)))\n",
        "print(numeros_range)"
      ],
      "metadata": {
        "colab": {
          "base_uri": "https://localhost:8080/"
        },
        "id": "7d_lUsVqx7km",
        "outputId": "e4ead035-3e23-4cfb-eee8-849a5bc20d70"
      },
      "execution_count": null,
      "outputs": [
        {
          "output_type": "stream",
          "name": "stdout",
          "text": [
            "[0, 1, 2, 3, 4, 5, 6, 7, 8, 9]\n",
            "[9, 8, 7, 6, 5, 4, 3, 2, 1, 0]\n"
          ]
        }
      ]
    },
    {
      "cell_type": "code",
      "source": [
        "numerosquadrados = [x**2 for x in range(10)]\n",
        "numerosquadrados"
      ],
      "metadata": {
        "colab": {
          "base_uri": "https://localhost:8080/"
        },
        "id": "wWmlSgogHCLb",
        "outputId": "09e2a502-8484-45ef-86f0-a5894dc66164"
      },
      "execution_count": null,
      "outputs": [
        {
          "output_type": "execute_result",
          "data": {
            "text/plain": [
              "[0, 1, 4, 9, 16, 25, 36, 49, 64, 81]"
            ]
          },
          "metadata": {},
          "execution_count": 15
        }
      ]
    },
    {
      "cell_type": "markdown",
      "source": [
        "##retornando valores"
      ],
      "metadata": {
        "id": "O8JbBd5c1RdI"
      }
    },
    {
      "cell_type": "code",
      "source": [
        "#RETORNANDO VALORES DE LISTAS\n",
        "print(diversos[1]['Idade'])\n",
        "print(varios[4-3])\n",
        "print(varios[-2])\n",
        "print(varios[len(varios)-2])\n",
        "print(varios[4].upper())#transoformação de texto\n",
        "print(float(varios[1]))#conversão de numero int para float\n",
        "print(len(lista_das_listas))#tamanho da lista de listas\n",
        "print(lista_das_listas)#lista de listas\n",
        "print(varios[1:-4])#do segundo item até -4 no final\n",
        "print(varios[2:])#3º item ate ultimo"
      ],
      "metadata": {
        "colab": {
          "base_uri": "https://localhost:8080/"
        },
        "id": "DIzV5ZaYz64p",
        "outputId": "f9531728-67b1-41a5-fc61-ab6ca826caf7"
      },
      "execution_count": null,
      "outputs": [
        {
          "output_type": "stream",
          "name": "stdout",
          "text": [
            "28\n",
            "20\n",
            "True\n",
            "True\n",
            "MEU NOME É BRAYAN\n",
            "20.0\n",
            "4\n",
            "[[], [10, 20, 30, 40, 'meu nome é Brayan', True, 3.12], ['Carro', 'Moto', 'Aeronave'], ['João', {'Idade': 28}, ['Música', 'Esporte']]]\n",
            "[20, 30]\n",
            "[30, 40, 'meu nome é Brayan', True, 3.12]\n"
          ]
        }
      ]
    },
    {
      "cell_type": "code",
      "source": [
        "lista = [10, 20, 30, 40, 50, 60]\n",
        "lista = lista + ['brayan']\n",
        "lista += ['miguel']\n",
        "\n",
        "for indice, valor in enumerate(lista):\n",
        "    print(f'índice={indice}, valor={valor}')\n",
        "print('\\nInvertendo lista\\n')\n",
        "lista.reverse()\n",
        "for indice, valor in enumerate(lista):\n",
        "    print(f'índice={indice}, valor={valor}')"
      ],
      "metadata": {
        "colab": {
          "base_uri": "https://localhost:8080/"
        },
        "id": "muwHGjMDzHoa",
        "outputId": "bf4ecf7c-b646-4943-ae17-977c1e5c1767"
      },
      "execution_count": null,
      "outputs": [
        {
          "output_type": "stream",
          "name": "stdout",
          "text": [
            "índice=0, valor=10\n",
            "índice=1, valor=20\n",
            "índice=2, valor=30\n",
            "índice=3, valor=40\n",
            "índice=4, valor=50\n",
            "índice=5, valor=60\n",
            "índice=6, valor=brayan\n",
            "índice=7, valor=miguel\n",
            "\n",
            "Invertendo lista\n",
            "\n",
            "índice=0, valor=miguel\n",
            "índice=1, valor=brayan\n",
            "índice=2, valor=60\n",
            "índice=3, valor=50\n",
            "índice=4, valor=40\n",
            "índice=5, valor=30\n",
            "índice=6, valor=20\n",
            "índice=7, valor=10\n"
          ]
        }
      ]
    },
    {
      "cell_type": "markdown",
      "source": [
        "##modificando itens das listas"
      ],
      "metadata": {
        "id": "rFfyWrTA1WcR"
      }
    },
    {
      "cell_type": "code",
      "source": [
        "varios[0] = 'mudei o primeiro'#mudando primeiro\n",
        "varios[-1] = 9.17#mudando ultimo item\n",
        "varios[2] = \"brayan\" + ' ' + 'soares'"
      ],
      "metadata": {
        "id": "JvreZ9Iw1QiC"
      },
      "execution_count": null,
      "outputs": []
    },
    {
      "cell_type": "code",
      "source": [
        "varios"
      ],
      "metadata": {
        "colab": {
          "base_uri": "https://localhost:8080/"
        },
        "id": "zbOxSIM81gmt",
        "outputId": "7aac0916-bd9c-44a6-f2a3-44fc596dd3af"
      },
      "execution_count": null,
      "outputs": [
        {
          "output_type": "execute_result",
          "data": {
            "text/plain": [
              "['mudei o primeiro', 20, 'brayan soares', 40, 'meu nome é Brayan', True, 9.17]"
            ]
          },
          "metadata": {},
          "execution_count": 35
        }
      ]
    },
    {
      "cell_type": "code",
      "source": [
        "#alterando todos os elemntos para numeros aleatorios\n",
        "import random as rd\n",
        "for i in range(len(varios)):\n",
        "  varios[i] = rd.randint(10, 1000)\n",
        "varios"
      ],
      "metadata": {
        "colab": {
          "base_uri": "https://localhost:8080/"
        },
        "id": "HNgFOjrS2GhH",
        "outputId": "491b2045-01e8-4245-98d9-e581b64d8f69"
      },
      "execution_count": null,
      "outputs": [
        {
          "output_type": "execute_result",
          "data": {
            "text/plain": [
              "[824, 660, 615, 837, 561, 885, 977]"
            ]
          },
          "metadata": {},
          "execution_count": 30
        }
      ]
    },
    {
      "cell_type": "code",
      "source": [
        "#adiconando itens e removendo todos\n",
        "lista = []\n",
        "try:\n",
        "  while True:\n",
        "    valor = input()\n",
        "    if valor == '0':\n",
        "      for i in range(len(lista)+1):\n",
        "        print(lista)\n",
        "        lista.pop()\n",
        "      break\n",
        "    lista.append(valor)\n",
        "    print(f'A lista é {lista}, com o tamanho de {len(lista)} itens')\n",
        "except:\n",
        "  pass"
      ],
      "metadata": {
        "colab": {
          "base_uri": "https://localhost:8080/"
        },
        "id": "qeARS0mHnKq7",
        "outputId": "66baacd8-05b4-4654-a552-151812499749"
      },
      "execution_count": null,
      "outputs": [
        {
          "output_type": "stream",
          "name": "stdout",
          "text": [
            "Brayan\n",
            "A lista é ['Brayan'], com o tamanho de 1 itens\n",
            "Miguel\n",
            "A lista é ['Brayan', 'Miguel'], com o tamanho de 2 itens\n",
            "Patrícia\n",
            "A lista é ['Brayan', 'Miguel', 'Patrícia'], com o tamanho de 3 itens\n",
            "0\n",
            "['Brayan', 'Miguel', 'Patrícia']\n",
            "['Brayan', 'Miguel']\n",
            "['Brayan']\n",
            "[]\n"
          ]
        }
      ]
    },
    {
      "cell_type": "code",
      "source": [
        "carros = []\n",
        "while True:\n",
        " print('Digite um nome do Carro ' + str(len(carros) + 1) + ' ( ou nada para parar):')\n",
        " name = input()\n",
        " if name == '':\n",
        "  break\n",
        " carros = carros + [name] # list concatenation\n",
        "print('Os carros são:')\n",
        "i = 1\n",
        "for name in carros:\n",
        "  print(str(i) + ' ' + name)\n",
        "  i += 1"
      ],
      "metadata": {
        "colab": {
          "base_uri": "https://localhost:8080/"
        },
        "id": "jPA0TFu0tuHZ",
        "outputId": "13d68c0a-2367-4fec-d548-0698db6c80a1"
      },
      "execution_count": null,
      "outputs": [
        {
          "output_type": "stream",
          "name": "stdout",
          "text": [
            "Digite um nome de Carro 1 ( ou nada para parar):\n",
            "Fusca\n",
            "Digite um nome de Carro 2 ( ou nada para parar):\n",
            "Kombi\n",
            "Digite um nome de Carro 3 ( ou nada para parar):\n",
            "Celta\n",
            "Digite um nome de Carro 4 ( ou nada para parar):\n",
            "Onix\n",
            "Digite um nome de Carro 5 ( ou nada para parar):\n",
            "\n",
            "Os carros são:\n",
            "1 Fusca\n",
            "2 Kombi\n",
            "3 Celta\n",
            "4 Onix\n"
          ]
        }
      ]
    },
    {
      "cell_type": "markdown",
      "source": [
        "##concatenação de listas"
      ],
      "metadata": {
        "id": "qJWHOza64NVr"
      }
    },
    {
      "cell_type": "code",
      "source": [
        "a = [1, 2, 3]\n",
        "b = [1, 2, 5]\n",
        "c = ['um', 'dois', 'três']\n",
        "d = ['1', '2', '3']\n",
        "\n",
        "q = a + b\n",
        "p = a * 2 + ['brayan', 'miguel']\n",
        "print(q)\n",
        "print(p)"
      ],
      "metadata": {
        "colab": {
          "base_uri": "https://localhost:8080/"
        },
        "id": "UTvEiUxV4Q2-",
        "outputId": "6b2a6ffe-7895-4caf-87fe-8e6c7a947e6b"
      },
      "execution_count": null,
      "outputs": [
        {
          "output_type": "stream",
          "name": "stdout",
          "text": [
            "[1, 2, 3, 1, 2, 5]\n",
            "[1, 2, 3, 1, 2, 3, 'brayan', 'miguel']\n"
          ]
        }
      ]
    },
    {
      "cell_type": "markdown",
      "source": [
        "##loop in listas"
      ],
      "metadata": {
        "id": "bqk4aRbFulpx"
      }
    },
    {
      "cell_type": "code",
      "source": [
        "for i in ['brayan', 'miguel', 'soares']:\n",
        "  print(i, end=' ')"
      ],
      "metadata": {
        "colab": {
          "base_uri": "https://localhost:8080/"
        },
        "id": "UJl1c2rPuqVI",
        "outputId": "ce776f0d-41ff-4cbe-82ec-7cc5476b67c4"
      },
      "execution_count": null,
      "outputs": [
        {
          "output_type": "stream",
          "name": "stdout",
          "text": [
            "brayan miguel soares "
          ]
        }
      ]
    },
    {
      "cell_type": "markdown",
      "source": [
        "##operadores in e not in"
      ],
      "metadata": {
        "id": "6BjETXwIvDFn"
      }
    },
    {
      "cell_type": "code",
      "source": [
        "nomes = ['brayan', 'miguel', 3]\n",
        "print(3 in [2, 3, 4])\n",
        "print('brayan' in nomes)\n",
        "print('brayan' not in nomes)"
      ],
      "metadata": {
        "colab": {
          "base_uri": "https://localhost:8080/"
        },
        "id": "xIjmaBMtblg8",
        "outputId": "1b053d50-8602-49e0-9575-9b17f6f7a759"
      },
      "execution_count": null,
      "outputs": [
        {
          "output_type": "stream",
          "name": "stdout",
          "text": [
            "True\n",
            "True\n",
            "False\n"
          ]
        }
      ]
    },
    {
      "cell_type": "markdown",
      "source": [
        "## metodo pop"
      ],
      "metadata": {
        "id": "F4ZDKscrd-PM"
      }
    },
    {
      "cell_type": "code",
      "source": [
        "lista = [1, 2, 3,  'brayan', 'miguel']\n",
        "print(lista)\n",
        "print(lista.pop())\n",
        "print(lista)\n",
        "del lista[0]\n",
        "print(lista)\n",
        "print(lista.pop(2))\n",
        "print(lista)"
      ],
      "metadata": {
        "colab": {
          "base_uri": "https://localhost:8080/"
        },
        "id": "3q-8KqtieYrJ",
        "outputId": "59e9d6ec-e994-424b-893a-87a299c47ae7"
      },
      "execution_count": null,
      "outputs": [
        {
          "output_type": "stream",
          "name": "stdout",
          "text": [
            "[1, 2, 3, 'brayan', 'miguel']\n",
            "miguel\n",
            "[1, 2, 3, 'brayan']\n",
            "[2, 3, 'brayan']\n",
            "brayan\n",
            "[2, 3]\n"
          ]
        }
      ]
    },
    {
      "cell_type": "markdown",
      "source": [
        "##método index"
      ],
      "metadata": {
        "id": "_v-wZcTasMo5"
      }
    },
    {
      "cell_type": "code",
      "source": [
        "nomes = ['brayan', 'miguel', 'soares', 'brayan']\n",
        "print(nomes.index('brayan'))#retorna a primeira ocorrência encontrada\n",
        "print(nomes.index('soares'))"
      ],
      "metadata": {
        "colab": {
          "base_uri": "https://localhost:8080/"
        },
        "id": "YRiiO7jQsQ8h",
        "outputId": "bf78c1e8-a5d2-415a-fa48-84965c01cd2e"
      },
      "execution_count": null,
      "outputs": [
        {
          "output_type": "stream",
          "name": "stdout",
          "text": [
            "0\n",
            "2\n"
          ]
        }
      ]
    },
    {
      "cell_type": "markdown",
      "source": [
        "##método insert\n"
      ],
      "metadata": {
        "id": "EaDG5NHTs5A8"
      }
    },
    {
      "cell_type": "code",
      "source": [
        "animais = []\n",
        "animais.append('macaco')\n",
        "animais.append('zebra')\n",
        "animais"
      ],
      "metadata": {
        "colab": {
          "base_uri": "https://localhost:8080/"
        },
        "id": "-Cwo39CVs9ge",
        "outputId": "813c9fe7-ab1a-43ed-a7fa-192379b7f08a"
      },
      "execution_count": null,
      "outputs": [
        {
          "output_type": "execute_result",
          "data": {
            "text/plain": [
              "['macaco', 'zebra']"
            ]
          },
          "metadata": {},
          "execution_count": 9
        }
      ]
    },
    {
      "cell_type": "markdown",
      "source": [
        "##método append"
      ],
      "metadata": {
        "id": "01r1WzMps60_"
      }
    },
    {
      "cell_type": "code",
      "source": [
        "animais = []\n",
        "animais.append('macaco')\n",
        "print(animais)\n",
        "animais.insert(0, 'gorila')\n",
        "print(animais)\n",
        "animais.insert(2, 'gorila2')\n",
        "print(animais)"
      ],
      "metadata": {
        "colab": {
          "base_uri": "https://localhost:8080/"
        },
        "id": "x8zpNH9Nte75",
        "outputId": "64ad2dbd-7df3-4ce3-8751-a3ff2482683d"
      },
      "execution_count": null,
      "outputs": [
        {
          "output_type": "stream",
          "name": "stdout",
          "text": [
            "['macaco']\n",
            "['gorila', 'macaco']\n",
            "['gorila', 'macaco', 'gorila2']\n"
          ]
        }
      ]
    },
    {
      "cell_type": "markdown",
      "source": [
        "##método remove\n",
        "Remove através do nome da lista"
      ],
      "metadata": {
        "id": "UV2bpUp8uTKQ"
      }
    },
    {
      "cell_type": "code",
      "source": [
        "animais = ['gorila', 'macaco', 'gorila2']\n",
        "animais.remove('macaco')\n",
        "print(animais)"
      ],
      "metadata": {
        "colab": {
          "base_uri": "https://localhost:8080/"
        },
        "id": "49t6rH5quV4h",
        "outputId": "dc2a7638-c5bf-41dd-cfed-74543b79ba2b"
      },
      "execution_count": null,
      "outputs": [
        {
          "output_type": "stream",
          "name": "stdout",
          "text": [
            "['gorila', 'gorila2']\n"
          ]
        }
      ]
    },
    {
      "cell_type": "code",
      "source": [
        "letras = ['a', 'a', 'a']\n",
        "letras.remove('a')\n",
        "letras# apenas a primeira instância deo valor será removido"
      ],
      "metadata": {
        "colab": {
          "base_uri": "https://localhost:8080/"
        },
        "id": "h6m8JWjfuwlU",
        "outputId": "4adcee1f-74a0-4cff-a2fc-adac13229ca4"
      },
      "execution_count": null,
      "outputs": [
        {
          "output_type": "execute_result",
          "data": {
            "text/plain": [
              "['a', 'a']"
            ]
          },
          "metadata": {},
          "execution_count": 24
        }
      ]
    },
    {
      "cell_type": "markdown",
      "source": [
        "##método del"
      ],
      "metadata": {
        "id": "bmSlkLTTA1wv"
      }
    },
    {
      "cell_type": "code",
      "source": [
        "numeros = [1, 2, 3, 4]\n",
        "del numeros[1]#remove pelo indice\n",
        "print(numeros)"
      ],
      "metadata": {
        "colab": {
          "base_uri": "https://localhost:8080/"
        },
        "id": "7zOTwhZ7A0X_",
        "outputId": "c1bac131-7ed9-4761-c88a-00ab16f18643"
      },
      "execution_count": null,
      "outputs": [
        {
          "output_type": "stream",
          "name": "stdout",
          "text": [
            "[1, 3, 4]\n"
          ]
        }
      ]
    },
    {
      "cell_type": "markdown",
      "source": [
        "##método sort"
      ],
      "metadata": {
        "id": "vL1yTMc9vbsD"
      }
    },
    {
      "cell_type": "code",
      "source": [
        "letras = ['a', 'd', 'c', 'd']\n",
        "letras.sort()\n",
        "print(letras)\n",
        "numeros = [20, 5, 2, 45 , 1]\n",
        "numeros.sort()\n",
        "print(numeros)\n",
        "numeros.sort(reverse=True)#invertendo ordem\n",
        "print(numeros)"
      ],
      "metadata": {
        "colab": {
          "base_uri": "https://localhost:8080/"
        },
        "id": "WAwdNWwJsDrw",
        "outputId": "e22da003-7ea0-4789-c53f-9a8bf572e5a0"
      },
      "execution_count": null,
      "outputs": [
        {
          "output_type": "stream",
          "name": "stdout",
          "text": [
            "['a', 'c', 'd', 'd']\n",
            "[1, 2, 5, 20, 45]\n",
            "[45, 20, 5, 2, 1]\n"
          ]
        }
      ]
    },
    {
      "cell_type": "markdown",
      "source": [
        "##método copy"
      ],
      "metadata": {
        "id": "bhNcrxG9EyYo"
      }
    },
    {
      "cell_type": "code",
      "source": [
        "import copy\n",
        "motos = ['honda', 'suzuki', 'yamaha']\n",
        "marcas = copy.copy(motos)\n",
        "motos[-1] = 'outra'\n",
        "print(motos)\n",
        "print(marcas)"
      ],
      "metadata": {
        "colab": {
          "base_uri": "https://localhost:8080/"
        },
        "id": "L8s3XpwhE0-Z",
        "outputId": "40990e0f-aafd-4b1e-effe-b909d9f45cbf"
      },
      "execution_count": null,
      "outputs": [
        {
          "output_type": "stream",
          "name": "stdout",
          "text": [
            "['honda', 'suzuki', 'outra']\n",
            "['honda', 'suzuki', 'yamaha']\n",
            "['honda', 'suzuki', 'outra']\n"
          ]
        }
      ]
    },
    {
      "cell_type": "markdown",
      "source": [
        "##Compressão de listas\n",
        "Compreensões de lista fornece uma maneira concisa de criar uma lista. Aplicações comuns são criar novas listas onde cada elemento é o resultado de alguma operação aplicada a cada elemento de outra sequência ou iterável, ou criar uma subsequência de elementos que satisfaçam uma certa condição."
      ],
      "metadata": {
        "id": "7Ofk-RHgHlaV"
      }
    },
    {
      "cell_type": "code",
      "source": [
        "numeros = []\n",
        "for x in range(10):\n",
        "  numeros.append(x**2)\n",
        "numeros"
      ],
      "metadata": {
        "colab": {
          "base_uri": "https://localhost:8080/"
        },
        "id": "84CQJtAlHjJc",
        "outputId": "5c9c335e-f769-4b18-c343-2dd6dc3022e0"
      },
      "execution_count": null,
      "outputs": [
        {
          "output_type": "execute_result",
          "data": {
            "text/plain": [
              "[0, 1, 4, 9, 16, 25, 36, 49, 64, 81]"
            ]
          },
          "metadata": {},
          "execution_count": 27
        }
      ]
    },
    {
      "cell_type": "code",
      "source": [
        "numeros = list(map(lambda x: x**2, range(10)))\n",
        "numeros"
      ],
      "metadata": {
        "colab": {
          "base_uri": "https://localhost:8080/"
        },
        "id": "lJCvyxV7H3Cw",
        "outputId": "3b49acb8-4b7d-463e-b3e3-968b461dd84d"
      },
      "execution_count": null,
      "outputs": [
        {
          "output_type": "execute_result",
          "data": {
            "text/plain": [
              "[0, 1, 4, 9, 16, 25, 36, 49, 64, 81]"
            ]
          },
          "metadata": {},
          "execution_count": 18
        }
      ]
    },
    {
      "cell_type": "code",
      "source": [
        "[x**2 for x in range(10)]"
      ],
      "metadata": {
        "colab": {
          "base_uri": "https://localhost:8080/"
        },
        "id": "mhCxLfIfH9ST",
        "outputId": "0734f976-3a89-409f-8486-5669bc4629f4"
      },
      "execution_count": null,
      "outputs": [
        {
          "output_type": "execute_result",
          "data": {
            "text/plain": [
              "[0, 1, 4, 9, 16, 25, 36, 49, 64, 81]"
            ]
          },
          "metadata": {},
          "execution_count": 26
        }
      ]
    },
    {
      "cell_type": "code",
      "source": [
        "[(x, y) for x in [1,2,3] for y in [3,1,4] if x != y]"
      ],
      "metadata": {
        "colab": {
          "base_uri": "https://localhost:8080/"
        },
        "id": "fnDAGhY3IDT1",
        "outputId": "8b13a74e-25d1-490d-cb66-bfe113970862"
      },
      "execution_count": null,
      "outputs": [
        {
          "output_type": "execute_result",
          "data": {
            "text/plain": [
              "[(1, 3), (1, 4), (2, 3), (2, 1), (2, 4), (3, 1), (3, 4)]"
            ]
          },
          "metadata": {},
          "execution_count": 21
        }
      ]
    },
    {
      "cell_type": "code",
      "source": [
        "numeros = [1, 2, 3, 4]\n",
        "[x*10 for x in numeros]"
      ],
      "metadata": {
        "colab": {
          "base_uri": "https://localhost:8080/"
        },
        "id": "w9L6G-ArIZNm",
        "outputId": "3fc1794f-2f78-45fb-c282-a5fa36526ac7"
      },
      "execution_count": 1,
      "outputs": [
        {
          "output_type": "stream",
          "name": "stdout",
          "text": [
            "[10, 20, 30, 40]\n"
          ]
        }
      ]
    },
    {
      "cell_type": "code",
      "source": [
        "numeros = []\n",
        "for x in range(0, 55, 5):\n",
        "  numeros.append(x * 2)\n",
        "print(numeros)\n",
        "print(max(numeros))\n",
        "print(min(numeros))\n",
        "print(sum(numeros))"
      ],
      "metadata": {
        "colab": {
          "base_uri": "https://localhost:8080/"
        },
        "id": "Mr6sW9wvREse",
        "outputId": "6eca9b1e-022e-48a9-f577-08457ee418a3"
      },
      "execution_count": 9,
      "outputs": [
        {
          "output_type": "stream",
          "name": "stdout",
          "text": [
            "[0, 10, 20, 30, 40, 50, 60, 70, 80, 90, 100]\n",
            "100\n",
            "0\n",
            "550\n"
          ]
        }
      ]
    },
    {
      "cell_type": "markdown",
      "source": [
        "pagina 117\n"
      ],
      "metadata": {
        "id": "i07CX2q05fQC"
      }
    }
  ]
}