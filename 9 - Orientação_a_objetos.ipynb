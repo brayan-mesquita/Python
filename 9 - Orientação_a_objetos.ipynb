{
  "cells": [
    {
      "cell_type": "markdown",
      "metadata": {
        "colab_type": "text",
        "id": "view-in-github"
      },
      "source": [
        "<a href=\"https://colab.research.google.com/github/brayan-mesquita/Python/blob/main/9%20-%20Orienta%C3%A7%C3%A3o_a_objetos.ipynb\" target=\"_parent\"><img src=\"https://colab.research.google.com/assets/colab-badge.svg\" alt=\"Open In Colab\"/></a>"
      ]
    },
    {
      "cell_type": "code",
      "execution_count": 13,
      "metadata": {
        "colab": {
          "base_uri": "https://localhost:8080/",
          "height": 38
        },
        "id": "iYxbxh9sj0qr",
        "outputId": "1fb271d8-9b00-48d6-97c7-a3b71243a9c7"
      },
      "outputs": [
        {
          "name": "stdout",
          "output_type": "stream",
          "text": [
            "brayan\n",
            "M\n",
            "30\n",
            "['contabilidade', 'programação', 'ciência de dados']\n"
          ]
        }
      ],
      "source": [
        "class Pessoa():\n",
        "  nome = 'brayan'\n",
        "  idade = 19\n",
        "humano = Pessoa()\n",
        "print(humano.nome)\n",
        "#criando atributo\n",
        "humano.sexo = 'M'\n",
        "print(humano.sexo)\n",
        "#alterando\n",
        "humano.idade = 30\n",
        "print(humano.idade)\n",
        "#adicionando atributos em lista\n",
        "humano.conhecimentos = ['contabilidade', 'programação', 'ciência de dados']\n",
        "print(humano.conhecimentos)"
      ]
    },
    {
      "cell_type": "code",
      "execution_count": 32,
      "metadata": {
        "colab": {
          "base_uri": "https://localhost:8080/"
        },
        "id": "OVfEciHhlCmN",
        "outputId": "dcc24b22-a880-4f61-c297-d8094a49a8fa"
      },
      "outputs": [
        {
          "name": "stdout",
          "output_type": "stream",
          "text": [
            "A marca do carro é Volks, o motor é 1.6. Se eu gosto: sim\n",
            "A marca do carro é Toyota, o motor é 2.0. Se eu gosto: não\n",
            "Você não gostava mesmo do Toyota, mas vou mudar seu conceito\n",
            "A marca do carro é Toyota, o motor é 2.0. Se eu gosto: sim\n",
            "None None\n"
          ]
        }
      ],
      "source": [
        "class Carro():\n",
        "  def __init__(self, marca, motor, cor):\n",
        "    self.marca = marca\n",
        "    self.motor = motor\n",
        "    self.cor = motor\n",
        "  def caracteristicas(self, gosto='não'):#atributo especifico para esta função, valor padrão não\n",
        "    self.gosto = gosto\n",
        "    print(f\"A marca do carro é {self.marca}, o motor é {self.motor}. Se eu gosto: {self.gosto}\")\n",
        "    if 'não' == self.gosto:\n",
        "      print(f'Você não gostava mesmo do {self.marca}, mas vou mudar seu conceito')\n",
        "      self.gosto = 'sim'\n",
        "      print(f\"A marca do carro é {self.marca}, o motor é {self.motor}. Se eu gosto: {self.gosto}\")\n",
        "\n",
        "carro1 = Carro(\"Volks\", \"1.6\", \"azul\")\n",
        "carro2 = Carro('Toyota', '2.0', 'vermelho')\n",
        "print(carro1.caracteristicas('sim'), carro2.caracteristicas('não'))"
      ]
    },
    {
      "cell_type": "code",
      "execution_count": null,
      "metadata": {},
      "outputs": [],
      "source": []
    },
    {
      "cell_type": "code",
      "execution_count": null,
      "metadata": {},
      "outputs": [],
      "source": []
    }
  ],
  "metadata": {
    "colab": {
      "authorship_tag": "ABX9TyOtWoJa/hAowDOuLM+XJ3bu",
      "collapsed_sections": [],
      "include_colab_link": true,
      "name": "9 - Orientação a objetos",
      "provenance": []
    },
    "kernelspec": {
      "display_name": "Python 3.10.5 64-bit (windows store)",
      "language": "python",
      "name": "python3"
    },
    "language_info": {
      "codemirror_mode": {
        "name": "ipython",
        "version": 3
      },
      "file_extension": ".py",
      "mimetype": "text/x-python",
      "name": "python",
      "nbconvert_exporter": "python",
      "pygments_lexer": "ipython3",
      "version": "3.10.5"
    },
    "vscode": {
      "interpreter": {
        "hash": "c3c8f4ea901ed6360110bdb099c00bd4a3f31170432fdd3c86e0bc3296bb5d07"
      }
    }
  },
  "nbformat": 4,
  "nbformat_minor": 0
}
