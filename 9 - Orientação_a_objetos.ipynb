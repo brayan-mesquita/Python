{
  "cells": [
    {
      "cell_type": "markdown",
      "metadata": {
        "colab_type": "text",
        "id": "view-in-github"
      },
      "source": [
        "<a href=\"https://colab.research.google.com/github/brayan-mesquita/Python/blob/main/9%20-%20Orienta%C3%A7%C3%A3o_a_objetos.ipynb\" target=\"_parent\"><img src=\"https://colab.research.google.com/assets/colab-badge.svg\" alt=\"Open In Colab\"/></a>"
      ]
    },
    {
      "cell_type": "code",
      "execution_count": 1,
      "metadata": {
        "colab": {
          "base_uri": "https://localhost:8080/",
          "height": 38
        },
        "id": "iYxbxh9sj0qr",
        "outputId": "1fb271d8-9b00-48d6-97c7-a3b71243a9c7"
      },
      "outputs": [
        {
          "data": {
            "text/plain": [
              "'brayan'"
            ]
          },
          "execution_count": 1,
          "metadata": {},
          "output_type": "execute_result"
        }
      ],
      "source": [
        "class Pessoa():\n",
        "  nome = 'brayan'\n",
        "  idade = 19\n",
        "humano = Pessoa()\n",
        "humano.nome"
      ]
    },
    {
      "cell_type": "code",
      "execution_count": 2,
      "metadata": {
        "colab": {
          "base_uri": "https://localhost:8080/"
        },
        "id": "OVfEciHhlCmN",
        "outputId": "dcc24b22-a880-4f61-c297-d8094a49a8fa"
      },
      "outputs": [
        {
          "name": "stdout",
          "output_type": "stream",
          "text": [
            "A marca do carro é Volks, o motor é 1.6\n"
          ]
        }
      ],
      "source": [
        "class Carro():\n",
        "  def __init__(self, marca, motor, cor):\n",
        "    self.marca = marca\n",
        "    self.motor = motor\n",
        "    self.cor = motor\n",
        "  def caracteristicas(self):\n",
        "    print(f\"A marca do carro é {self.marca}, o motor é {self.motor}\")\n",
        "veiculo = Carro(\"Volks\", \"1.6\", \"azul\")\n",
        "veiculo.caracteristicas()"
      ]
    },
    {
      "cell_type": "code",
      "execution_count": 7,
      "metadata": {},
      "outputs": [
        {
          "name": "stdout",
          "output_type": "stream",
          "text": [
            "azul\n"
          ]
        }
      ],
      "source": [
        "class Cor:\n",
        "    red = 1\n",
        "    blue = 2\n",
        "cor = 2\n",
        "if cor == Cor.red:\n",
        "   print('vermelho')\n",
        "elif cor == Cor.blue:\n",
        "    print('azul')\n",
        "else:\n",
        "    pass"
      ]
    },
    {
      "cell_type": "code",
      "execution_count": null,
      "metadata": {},
      "outputs": [],
      "source": []
    }
  ],
  "metadata": {
    "colab": {
      "authorship_tag": "ABX9TyOtWoJa/hAowDOuLM+XJ3bu",
      "collapsed_sections": [],
      "include_colab_link": true,
      "name": "9 - Orientação a objetos",
      "provenance": []
    },
    "kernelspec": {
      "display_name": "Python 3.8.10 64-bit",
      "language": "python",
      "name": "python3"
    },
    "language_info": {
      "codemirror_mode": {
        "name": "ipython",
        "version": 3
      },
      "file_extension": ".py",
      "mimetype": "text/x-python",
      "name": "python",
      "nbconvert_exporter": "python",
      "pygments_lexer": "ipython3",
      "version": "3.8.10"
    },
    "vscode": {
      "interpreter": {
        "hash": "31f2aee4e71d21fbe5cf8b01ff0e069b9275f58929596ceb00d14d90e3e16cd6"
      }
    }
  },
  "nbformat": 4,
  "nbformat_minor": 0
}
