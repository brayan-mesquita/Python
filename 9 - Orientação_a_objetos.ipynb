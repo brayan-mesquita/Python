{
  "nbformat": 4,
  "nbformat_minor": 0,
  "metadata": {
    "colab": {
      "name": "9 - Orientação a objetos",
      "provenance": [],
      "collapsed_sections": [],
      "authorship_tag": "ABX9TyOtWoJa/hAowDOuLM+XJ3bu",
      "include_colab_link": true
    },
    "kernelspec": {
      "name": "python3",
      "display_name": "Python 3"
    },
    "language_info": {
      "name": "python"
    }
  },
  "cells": [
    {
      "cell_type": "markdown",
      "metadata": {
        "id": "view-in-github",
        "colab_type": "text"
      },
      "source": [
        "<a href=\"https://colab.research.google.com/github/brayan-mesquita/Python/blob/main/9%20-%20Orienta%C3%A7%C3%A3o_a_objetos.ipynb\" target=\"_parent\"><img src=\"https://colab.research.google.com/assets/colab-badge.svg\" alt=\"Open In Colab\"/></a>"
      ]
    },
    {
      "cell_type": "code",
      "execution_count": null,
      "metadata": {
        "colab": {
          "base_uri": "https://localhost:8080/",
          "height": 38
        },
        "id": "iYxbxh9sj0qr",
        "outputId": "1fb271d8-9b00-48d6-97c7-a3b71243a9c7"
      },
      "outputs": [
        {
          "output_type": "execute_result",
          "data": {
            "text/plain": [
              "'brayan'"
            ],
            "application/vnd.google.colaboratory.intrinsic+json": {
              "type": "string"
            }
          },
          "metadata": {},
          "execution_count": 2
        }
      ],
      "source": [
        "class Pessoa():\n",
        "  nome = 'brayan'\n",
        "  idade = 19\n",
        "humano = Pessoa()\n",
        "humano.nome"
      ]
    },
    {
      "cell_type": "code",
      "source": [
        "class Carro():\n",
        "  def __init__(self, marca, motor, cor):\n",
        "    self.marca = marca\n",
        "    self.motor = motor\n",
        "    self.cor = motor\n",
        "  def caracteristicas(self):\n",
        "    print(f\"A marca do carro é {self.marca}, o motor é {self.motor}\")\n",
        "veiculo = Carro(\"Volks\", \"1.6\", \"azul\")\n",
        "veiculo.caracteristicas()"
      ],
      "metadata": {
        "colab": {
          "base_uri": "https://localhost:8080/"
        },
        "id": "OVfEciHhlCmN",
        "outputId": "dcc24b22-a880-4f61-c297-d8094a49a8fa"
      },
      "execution_count": null,
      "outputs": [
        {
          "output_type": "stream",
          "name": "stdout",
          "text": [
            "A marca do carro éVolks, o motor é 1.6\n"
          ]
        }
      ]
    }
  ]
}